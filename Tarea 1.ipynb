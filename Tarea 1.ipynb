{
 "cells": [
  {
   "cell_type": "code",
   "execution_count": 2,
   "metadata": {
    "collapsed": false,
    "scrolled": true
   },
   "outputs": [
    {
     "name": "stdout",
     "output_type": "stream",
     "text": [
      "Populating the interactive namespace from numpy and matplotlib\n"
     ]
    }
   ],
   "source": [
    "%pylab inline"
   ]
  },
  {
   "cell_type": "code",
   "execution_count": 3,
   "metadata": {
    "collapsed": false
   },
   "outputs": [],
   "source": [
    "import numpy as np\n",
    "import matplotlib.pyplot as plt\n",
    "from scipy.optimize import curve_fit\n",
    "import scipy.integrate as integrate\n",
    "import random"
   ]
  },
  {
   "cell_type": "markdown",
   "metadata": {},
   "source": [
    "$\\textbf{Problema 1:}$"
   ]
  },
  {
   "cell_type": "markdown",
   "metadata": {},
   "source": [
    "a) El tener eventos disjuntos es una relación que se establece entre conjuntos de elementos. Los eventos mutuamente disjuntos no poseen elementos en común y por tanto, la ocurrencia de eventos disjuntos no puede ser simultanea. \n",
    "\n",
    "Por otro lado, la relación entre eventos independientes tienen un enfoque más probabilistico. Los eventos independientes pueden superponerse y no intervienen entre sí en sus probabilidades.\n",
    "\n",
    "Un ejemplo astronómico de eventos disjuntos:\n",
    "\n",
    "-Evento 1: Observar una supernova tipo I\n",
    "-Evento 2: Que la supernova tenga Hidrógeno en su atmosfera\n",
    "\n",
    "Un ejemplo astronómico de eventos independientes:\n",
    "\n",
    "-Evento 1: Tener una cierta cantidad de cuentas asociadas a fotones provenientes de una fuente (para una frecuencia dada)\n",
    "-Evento 2: Tener una cierta cantidad de cuentas asociadas a el bias instrumental (en la misma frecuencia).\n",
    "\n",
    "b) A partir de la figura:\n",
    "\n",
    "<img src=\"files/ACBC.png\">\n",
    "\n",
    "Tenemos que $A^c \\cap B^c= \\Omega - A \\cup B$, de manera que se tiene:\n",
    "$$P(A^c \\cap B^c)=P( \\Omega - A \\cup B) \\\\ =1- P(A+B + A \\cap B) \\\\ = 1- P(A) - P(B) + P(AB) \\\\ = 1- P(A) - P(B) + P(A)P(B) \\\\ = (1-P(A)) (1-P(B)) = P(A^c) P(B^c)$$\n",
    "\n",
    "Donde usamos que  $P(A \\cap B)= P(A) P(B)$ (independencia) y otras propiedades de probabilidades en conjuntos como: $P(A^c)=1-P(A)$ (idem para B). Con ello terminamos demostrando que $P(A^c \\cap B^c)=P(A^c) P(B^c)$ (independencia de $A^c \\ y \\ B^c$)."
   ]
  },
  {
   "cell_type": "markdown",
   "metadata": {},
   "source": [
    "$\\textbf{Problema 2}$"
   ]
  },
  {
   "cell_type": "markdown",
   "metadata": {},
   "source": [
    "a) Dado que tenemos un sistema de encuesta con sólo dos posibles respuestas, cada una con cierta probabilidad $r$(elegir la primera respuesta) y $(1-r)$(elegir la segunda respuesta) de ocurrir, entonces la distribución que se tiene para X (el número de veces que la gente escoge la primera respuesta) es binomial. A partir del sistema de encuesta formulado por el ayudante tenemos los parámetros:\n",
    "\n",
    "n: número total de personas que participaron en la encuesta.\n",
    "X=18: número de personas que eligieron la primera respuesta (quedarse con su elección inicial en el problema de Monty Hall).\n",
    "r: probabilidad de que las personas eligan la primera respuesta.\n",
    "\n",
    "b) Asumiendo $r=0.5$ podemos calcular la probabilidad $P(X=18|r=0.5) = \\left(\\frac{33}{18}\\right) r^{18} (1-r)^{15} \\approx 0.12$ (compilar la línea inferior)."
   ]
  },
  {
   "cell_type": "code",
   "execution_count": 4,
   "metadata": {
    "collapsed": false
   },
   "outputs": [
    {
     "data": {
      "text/plain": [
       "0.12074111960828303"
      ]
     },
     "execution_count": 4,
     "metadata": {},
     "output_type": "execute_result"
    }
   ],
   "source": [
    "float(math.factorial(33))/(float(math.factorial(18))*math.factorial(15))*(0.5)**33"
   ]
  },
  {
   "cell_type": "markdown",
   "metadata": {},
   "source": [
    "Podemos simular un proceso de votación (en este caso repitiendo 1000 veces la misma votación de 33 votos) para comprobar nuestros resultados."
   ]
  },
  {
   "cell_type": "code",
   "execution_count": 31,
   "metadata": {
    "collapsed": false
   },
   "outputs": [
    {
     "data": {
      "text/plain": [
       "(array([   3.,    0.,   11.,    0.,   25.,    0.,   57.,    0.,   73.,\n",
       "           0.,   93.,    0.,  113.,    0.,  150.,    0.,  139.,    0.,\n",
       "         110.,    0.,   86.,    0.,   64.,    0.,   37.,    0.,   23.,\n",
       "           0.,    8.,    0.,    5.,    0.,    2.,    1.]),\n",
       " array([  9. ,   9.5,  10. ,  10.5,  11. ,  11.5,  12. ,  12.5,  13. ,\n",
       "         13.5,  14. ,  14.5,  15. ,  15.5,  16. ,  16.5,  17. ,  17.5,\n",
       "         18. ,  18.5,  19. ,  19.5,  20. ,  20.5,  21. ,  21.5,  22. ,\n",
       "         22.5,  23. ,  23.5,  24. ,  24.5,  25. ,  25.5,  26. ]),\n",
       " <a list of 34 Patch objects>)"
      ]
     },
     "execution_count": 31,
     "metadata": {},
     "output_type": "execute_result"
    },
    {
     "data": {
      "image/png": "[encoded data removed]",
      "text/plain": [
       "<matplotlib.figure.Figure at 0x1ac3af60>"
      ]
     },
     "metadata": {},
     "output_type": "display_data"
    }
   ],
   "source": [
    "suma=np.zeros((1000))\n",
    "votacion= np.zeros((1000,33))\n",
    "for i in range(1000):\n",
    "    votacion[i]= [random.randint(0, 1) for x in range(33)]\n",
    "\n",
    "for i in range(1000):\n",
    "    suma[i]=sum(votacion[i])\n",
    "\n",
    "plt.title(\"Histograma de proceso de 1000 votaciones\")\n",
    "plt.xlabel(\"Acierto de primera respuesta por repeticion\")\n",
    "plt.ylabel(\"Frecuencia para las 1000 repeticiones\")\n",
    "plt.xlim(0,33)\n",
    "plt.hist(suma, bins=34)"
   ]
  },
  {
   "cell_type": "markdown",
   "metadata": {
    "collapsed": false
   },
   "source": [
    "A partir de él, podemos observar una distribución de Poisson, el cual se formó mediante un proceso de votación con distribución binomial. Adicionalmente, obtenemos $P(X=18|r=0.5) \\approx 0.12 $ tal y como esperábamos (comprobar con las líneas de código superiores e inferiores)."
   ]
  },
  {
   "cell_type": "code",
   "execution_count": 9,
   "metadata": {
    "collapsed": false
   },
   "outputs": [
    {
     "name": "stdout",
     "output_type": "stream",
     "text": [
      "0.121\n"
     ]
    }
   ],
   "source": [
    "prob=float(len(np.where(suma==18.0)[0]))/len(suma)\n",
    "print prob"
   ]
  },
  {
   "cell_type": "markdown",
   "metadata": {},
   "source": [
    "c) Para comparar comparar la hipótesis de que la mayor cantidad de la gente prefiere quedarse con su respuesta inicial necesitamos la distribución de r dados nuestros datos observados $X=x$, con $x=18$. Para obtener esto podemos usar el teorema de Bayes, lo cual implica conocer $P(r)$ (la distribución intrínseca de probabilidad de que r tome un valor dado entre 0 y 1). Por enunciado nos dicen que $P(r)=1$, lo que se refiere a que $r$ distribuye uniformemente."
   ]
  },
  {
   "cell_type": "code",
   "execution_count": 18,
   "metadata": {
    "collapsed": false
   },
   "outputs": [
    {
     "name": "stdout",
     "output_type": "stream",
     "text": [
      "La integral de la PDF(r) a lo largo del rango de r [0,1] da igual a 1.0\n",
      "Adicionalmente, podemos graficar la PDF(r)\n"
     ]
    },
    {
     "data": {
      "image/png": "[encoded data removed]",
      "text/plain": [
       "<matplotlib.figure.Figure at 0x1a2be588>"
      ]
     },
     "metadata": {},
     "output_type": "display_data"
    }
   ],
   "source": [
    "rvec=np.linspace(0,1,100)\n",
    "prvec=np.ones((100))\n",
    "pr=1.\n",
    "int_pr=integrate.quad(lambda x: pr,0,1)\n",
    "\n",
    "plt.title(\"\")\n",
    "plt.xlabel(r'$r$')\n",
    "plt.ylabel(r'$PDF(r)$')\n",
    "plt.plot(rvec,prvec)\n",
    "print 'La integral de la PDF(r) a lo largo del rango de r [0,1] da igual a',int_pr[0]\n",
    "print 'Adicionalmente, podemos graficar la PDF(r):'"
   ]
  },
  {
   "cell_type": "markdown",
   "metadata": {},
   "source": [
    "Usando lo anterior podemos escribir $PDF(r|X=18)={ p(X|r) P(r) \\over \\int P(X|r') P(r') dr'}$. Con esto tenemos la $PDF(r)$ y podemos obtener la $CDF(r)=\\int^r_{-\\infty} PDF(r') dr'$. A partir de esto podemos graficar tanto la PDF(r|X) como la CDF(r|X):"
   ]
  },
  {
   "cell_type": "code",
   "execution_count": 24,
   "metadata": {
    "collapsed": false
   },
   "outputs": [
    {
     "data": {
      "image/png": "[encoded data removed]",
      "text/plain": [
       "<matplotlib.figure.Figure at 0x1a936208>"
      ]
     },
     "metadata": {},
     "output_type": "display_data"
    },
    {
     "data": {
      "text/plain": [
       "[<matplotlib.lines.Line2D at 0x1b16b630>]"
      ]
     },
     "execution_count": 24,
     "metadata": {},
     "output_type": "execute_result"
    },
    {
     "data": {
      "image/png": "[encoded data removed]",
      "text/plain": [
       "<matplotlib.figure.Figure at 0x1b16b668>"
      ]
     },
     "metadata": {},
     "output_type": "display_data"
    }
   ],
   "source": [
    "den=integrate.quad(lambda r: float(math.factorial(33))/(float(math.factorial(18))*math.factorial(15))*(r)**18*(1-r)**15,0,1)[0]\n",
    "def prX(r):\n",
    "    return float(math.factorial(33))/(float(math.factorial(18))*math.factorial(15))*r**18*(1-r)**15/den\n",
    "\n",
    "CDF_plot=np.zeros((len(rvec)))\n",
    "plt.xlabel(r'$r$')\n",
    "plt.ylabel(r'$PDF(r|X)$')\n",
    "plt.plot(rvec,prX(rvec))\n",
    "plt.show()\n",
    "def CDF(r):\n",
    "    return integrate.quad(lambda x: prX(x),0,r)[0]\n",
    "for i in range(len(rvec)):\n",
    "    CDF_plot[i]=CDF(rvec[i])\n",
    "\n",
    "plt.xlabel(r'$r$')\n",
    "plt.ylim([0,1.01])\n",
    "plt.ylabel(r'$CDF(r|X)$')\n",
    "plt.plot(rvec,CDF_plot)"
   ]
  },
  {
   "cell_type": "markdown",
   "metadata": {},
   "source": [
    "En base al gráfico de la PDF(r|X) podemos decir que, a partir de nuestros datos observados (X=18), el peak de nuestra PFD(r|X) se encuentra centrado hacia $r>0.5$. Adicionalmente, del gráfico de la CDF(r|X) podemos corroborar que CDF(r|X) llega a 1 para $r \\rightarrow 1$, y podemos notar que la mayor parte de la probabilidad acumulada se encuentra en zonas con $r>0.5$. Podemos corroborar esto haciendo la comparación de: $\\int^{0.5}_0 PDF(r|X)$ y $\\int^1_{0.5} PDF(r|X)$ (lo cual podemos hacer usando la línea de código de abajo)."
   ]
  },
  {
   "cell_type": "code",
   "execution_count": 28,
   "metadata": {
    "collapsed": false
   },
   "outputs": [
    {
     "name": "stdout",
     "output_type": "stream",
     "text": [
      "La probabilidad acumulada para r<0.5 es 0.303795680637\n",
      "La probabilidad acumulada para r<0.5 es 0.696204319363\n"
     ]
    }
   ],
   "source": [
    "r_b=integrate.quad(lambda x: prX(x),0,0.5)[0]\n",
    "r_a=integrate.quad(lambda x: prX(x),0.5,1)[0]\n",
    "\n",
    "print 'La probabilidad acumulada para r<0.5 es', r_b\n",
    "print 'La probabilidad acumulada para r>0.5 es', r_a"
   ]
  },
  {
   "cell_type": "markdown",
   "metadata": {
    "collapsed": false
   },
   "source": [
    "Con lo cual corroboramos nuestra hipótesis de que nuestros datos indican que la gente tiende a quedarse con su decición inicial en el problema de Monty Hall."
   ]
  },
  {
   "cell_type": "code",
   "execution_count": 24,
   "metadata": {
    "collapsed": false
   },
   "outputs": [
    {
     "data": {
      "text/plain": [
       "array([   0.,    0.,    0.,    0.,    0.,    0.,    0.,    0.,    1.,\n",
       "          9.,   10.,   26.,   45.,   68.,   94.,  137.,  130.,  126.,\n",
       "         93.,   98.,   72.,   42.,   28.,   11.,    7.,    2.,    1.,\n",
       "          0.,    0.,    0.,    0.,    0.,    0.,    0.])"
      ]
     },
     "execution_count": 24,
     "metadata": {},
     "output_type": "execute_result"
    }
   ],
   "source": [
    "hist"
   ]
  },
  {
   "cell_type": "code",
   "execution_count": null,
   "metadata": {
    "collapsed": true
   },
   "outputs": [],
   "source": []
  }
 ],
 "metadata": {
  "kernelspec": {
   "display_name": "Python 2",
   "language": "python",
   "name": "python2"
  },
  "language_info": {
   "codemirror_mode": {
    "name": "ipython",
    "version": 2
   },
   "file_extension": ".py",
   "mimetype": "text/x-python",
   "name": "python",
   "nbconvert_exporter": "python",
   "pygments_lexer": "ipython2",
   "version": "2.7.11"
  }
 },
 "nbformat": 4,
 "nbformat_minor": 0
}
